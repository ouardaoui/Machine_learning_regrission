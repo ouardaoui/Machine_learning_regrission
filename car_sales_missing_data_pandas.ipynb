{
  "nbformat": 4,
  "nbformat_minor": 0,
  "metadata": {
    "colab": {
      "name": "car_sales_missing_data_pandas.ipynb",
      "provenance": [],
      "collapsed_sections": [],
      "mount_file_id": "1TptF5O9LTI0edCygz_GynFn48LTJmnYQ",
      "authorship_tag": "ABX9TyPzIkhCW0cf45q80usIrkhQ",
      "include_colab_link": true
    },
    "kernelspec": {
      "name": "python3",
      "display_name": "Python 3"
    },
    "language_info": {
      "name": "python"
    }
  },
  "cells": [
    {
      "cell_type": "markdown",
      "metadata": {
        "id": "view-in-github",
        "colab_type": "text"
      },
      "source": [
        "<a href=\"https://colab.research.google.com/github/youssefbourais0310/Machine_learning_regrission/blob/main/car_sales_missing_data_pandas.ipynb\" target=\"_parent\"><img src=\"https://colab.research.google.com/assets/colab-badge.svg\" alt=\"Open In Colab\"/></a>"
      ]
    },
    {
      "cell_type": "markdown",
      "metadata": {
        "id": "auyQ2_TV6HaP"
      },
      "source": [
        "#getting data ready , handling missing values with pandas\n",
        "\n",
        "\n",
        "\n"
      ]
    },
    {
      "cell_type": "code",
      "metadata": {
        "id": "Qu2O2OOg6DV-"
      },
      "source": [
        "#standard imports\n",
        "import numpy as np \n",
        "import pandas as pd "
      ],
      "execution_count": 1,
      "outputs": []
    },
    {
      "cell_type": "code",
      "metadata": {
        "colab": {
          "base_uri": "https://localhost:8080/",
          "height": 404
        },
        "id": "yZerTtJU7JMR",
        "outputId": "09be556c-1fd0-4f73-dffd-99257bd5a430"
      },
      "source": [
        "#import car sales missing data  \n",
        "car_sales_missing = pd.read_csv(\"/content/drive/MyDrive/car-sales-extended-missing-data.csv\")     \n",
        "car_sales_missing"
      ],
      "execution_count": 2,
      "outputs": [
        {
          "output_type": "execute_result",
          "data": {
            "text/html": [
              "<div>\n",
              "<style scoped>\n",
              "    .dataframe tbody tr th:only-of-type {\n",
              "        vertical-align: middle;\n",
              "    }\n",
              "\n",
              "    .dataframe tbody tr th {\n",
              "        vertical-align: top;\n",
              "    }\n",
              "\n",
              "    .dataframe thead th {\n",
              "        text-align: right;\n",
              "    }\n",
              "</style>\n",
              "<table border=\"1\" class=\"dataframe\">\n",
              "  <thead>\n",
              "    <tr style=\"text-align: right;\">\n",
              "      <th></th>\n",
              "      <th>Make</th>\n",
              "      <th>Colour</th>\n",
              "      <th>Odometer (KM)</th>\n",
              "      <th>Doors</th>\n",
              "      <th>Price</th>\n",
              "    </tr>\n",
              "  </thead>\n",
              "  <tbody>\n",
              "    <tr>\n",
              "      <th>0</th>\n",
              "      <td>Honda</td>\n",
              "      <td>White</td>\n",
              "      <td>35431.0</td>\n",
              "      <td>4.0</td>\n",
              "      <td>15323.0</td>\n",
              "    </tr>\n",
              "    <tr>\n",
              "      <th>1</th>\n",
              "      <td>BMW</td>\n",
              "      <td>Blue</td>\n",
              "      <td>192714.0</td>\n",
              "      <td>5.0</td>\n",
              "      <td>19943.0</td>\n",
              "    </tr>\n",
              "    <tr>\n",
              "      <th>2</th>\n",
              "      <td>Honda</td>\n",
              "      <td>White</td>\n",
              "      <td>84714.0</td>\n",
              "      <td>4.0</td>\n",
              "      <td>28343.0</td>\n",
              "    </tr>\n",
              "    <tr>\n",
              "      <th>3</th>\n",
              "      <td>Toyota</td>\n",
              "      <td>White</td>\n",
              "      <td>154365.0</td>\n",
              "      <td>4.0</td>\n",
              "      <td>13434.0</td>\n",
              "    </tr>\n",
              "    <tr>\n",
              "      <th>4</th>\n",
              "      <td>Nissan</td>\n",
              "      <td>Blue</td>\n",
              "      <td>181577.0</td>\n",
              "      <td>3.0</td>\n",
              "      <td>14043.0</td>\n",
              "    </tr>\n",
              "    <tr>\n",
              "      <th>...</th>\n",
              "      <td>...</td>\n",
              "      <td>...</td>\n",
              "      <td>...</td>\n",
              "      <td>...</td>\n",
              "      <td>...</td>\n",
              "    </tr>\n",
              "    <tr>\n",
              "      <th>995</th>\n",
              "      <td>Toyota</td>\n",
              "      <td>Black</td>\n",
              "      <td>35820.0</td>\n",
              "      <td>4.0</td>\n",
              "      <td>32042.0</td>\n",
              "    </tr>\n",
              "    <tr>\n",
              "      <th>996</th>\n",
              "      <td>NaN</td>\n",
              "      <td>White</td>\n",
              "      <td>155144.0</td>\n",
              "      <td>3.0</td>\n",
              "      <td>5716.0</td>\n",
              "    </tr>\n",
              "    <tr>\n",
              "      <th>997</th>\n",
              "      <td>Nissan</td>\n",
              "      <td>Blue</td>\n",
              "      <td>66604.0</td>\n",
              "      <td>4.0</td>\n",
              "      <td>31570.0</td>\n",
              "    </tr>\n",
              "    <tr>\n",
              "      <th>998</th>\n",
              "      <td>Honda</td>\n",
              "      <td>White</td>\n",
              "      <td>215883.0</td>\n",
              "      <td>4.0</td>\n",
              "      <td>4001.0</td>\n",
              "    </tr>\n",
              "    <tr>\n",
              "      <th>999</th>\n",
              "      <td>Toyota</td>\n",
              "      <td>Blue</td>\n",
              "      <td>248360.0</td>\n",
              "      <td>4.0</td>\n",
              "      <td>12732.0</td>\n",
              "    </tr>\n",
              "  </tbody>\n",
              "</table>\n",
              "<p>1000 rows × 5 columns</p>\n",
              "</div>"
            ],
            "text/plain": [
              "       Make Colour  Odometer (KM)  Doors    Price\n",
              "0     Honda  White        35431.0    4.0  15323.0\n",
              "1       BMW   Blue       192714.0    5.0  19943.0\n",
              "2     Honda  White        84714.0    4.0  28343.0\n",
              "3    Toyota  White       154365.0    4.0  13434.0\n",
              "4    Nissan   Blue       181577.0    3.0  14043.0\n",
              "..      ...    ...            ...    ...      ...\n",
              "995  Toyota  Black        35820.0    4.0  32042.0\n",
              "996     NaN  White       155144.0    3.0   5716.0\n",
              "997  Nissan   Blue        66604.0    4.0  31570.0\n",
              "998   Honda  White       215883.0    4.0   4001.0\n",
              "999  Toyota   Blue       248360.0    4.0  12732.0\n",
              "\n",
              "[1000 rows x 5 columns]"
            ]
          },
          "metadata": {
            "tags": []
          },
          "execution_count": 2
        }
      ]
    },
    {
      "cell_type": "code",
      "metadata": {
        "colab": {
          "base_uri": "https://localhost:8080/"
        },
        "id": "1uvBhCvoysIW",
        "outputId": "88903d1d-a1d7-4de1-cb7c-87d31fd9c441"
      },
      "source": [
        "car_sales_missing.isna().sum()"
      ],
      "execution_count": 3,
      "outputs": [
        {
          "output_type": "execute_result",
          "data": {
            "text/plain": [
              "Make             49\n",
              "Colour           50\n",
              "Odometer (KM)    50\n",
              "Doors            50\n",
              "Price            50\n",
              "dtype: int64"
            ]
          },
          "metadata": {
            "tags": []
          },
          "execution_count": 3
        }
      ]
    },
    {
      "cell_type": "code",
      "metadata": {
        "id": "JMSWHnYp8lka"
      },
      "source": [
        "#create X and y \n",
        "X = car_sales_missing.drop(\"Price\", axis=1)\n",
        "y = car_sales_missing[\"Price\"]"
      ],
      "execution_count": 4,
      "outputs": []
    },
    {
      "cell_type": "code",
      "metadata": {
        "colab": {
          "base_uri": "https://localhost:8080/"
        },
        "id": "37yGNI5b_qGm",
        "outputId": "ef7d3c3d-9b4d-4e74-f11f-7b1225b6c770"
      },
      "source": [
        "car_sales_missing[\"Doors\"].value_counts()"
      ],
      "execution_count": 5,
      "outputs": [
        {
          "output_type": "execute_result",
          "data": {
            "text/plain": [
              "4.0    811\n",
              "5.0     75\n",
              "3.0     64\n",
              "Name: Doors, dtype: int64"
            ]
          },
          "metadata": {
            "tags": []
          },
          "execution_count": 5
        }
      ]
    },
    {
      "cell_type": "markdown",
      "metadata": {
        "id": "7WLDjjZX9xeB"
      },
      "source": [
        "option 1 : Fill missing data with pandas"
      ]
    },
    {
      "cell_type": "code",
      "metadata": {
        "id": "-p2NN0xC96JG"
      },
      "source": [
        "#fill the \"make \" column \n",
        "car_sales_missing[\"Make\"].fillna(\"missing\", inplace=True)\n",
        "\n",
        "#fill the \"colour \" column \n",
        "car_sales_missing[\"Colour\"].fillna(\"missing\", inplace=True)\n",
        "\n",
        "#fill the \"odometer (KM) \"  column \n",
        "car_sales_missing[\"Odometer (KM)\"].fillna(car_sales_missing[\"Odometer (KM)\"].mean(), inplace = True)\n",
        "\n",
        "##fill the \"Doors \"  column \n",
        "car_sales_missing[\"Doors\"].fillna(4, inplace=True)\n",
        "\n"
      ],
      "execution_count": 6,
      "outputs": []
    },
    {
      "cell_type": "code",
      "metadata": {
        "colab": {
          "base_uri": "https://localhost:8080/"
        },
        "id": "G1CMShM8BIPy",
        "outputId": "39a785cb-9039-4a4a-efd5-73b936f3f25a"
      },
      "source": [
        "#Check our dataframe again\n",
        "car_sales_missing.isna().sum()"
      ],
      "execution_count": 7,
      "outputs": [
        {
          "output_type": "execute_result",
          "data": {
            "text/plain": [
              "Make              0\n",
              "Colour            0\n",
              "Odometer (KM)     0\n",
              "Doors             0\n",
              "Price            50\n",
              "dtype: int64"
            ]
          },
          "metadata": {
            "tags": []
          },
          "execution_count": 7
        }
      ]
    },
    {
      "cell_type": "code",
      "metadata": {
        "id": "Bfu3aW4iBdrB"
      },
      "source": [
        "# Remove rows with missing price value \n",
        "car_sales_missing.dropna(inplace= True)"
      ],
      "execution_count": 8,
      "outputs": []
    },
    {
      "cell_type": "code",
      "metadata": {
        "colab": {
          "base_uri": "https://localhost:8080/"
        },
        "id": "XDHgS_XkBtaq",
        "outputId": "91a7fd3c-95f7-47a2-bed0-8e486e7b1707"
      },
      "source": [
        "car_sales_missing.isna().sum()"
      ],
      "execution_count": 9,
      "outputs": [
        {
          "output_type": "execute_result",
          "data": {
            "text/plain": [
              "Make             0\n",
              "Colour           0\n",
              "Odometer (KM)    0\n",
              "Doors            0\n",
              "Price            0\n",
              "dtype: int64"
            ]
          },
          "metadata": {
            "tags": []
          },
          "execution_count": 9
        }
      ]
    },
    {
      "cell_type": "code",
      "metadata": {
        "colab": {
          "base_uri": "https://localhost:8080/"
        },
        "id": "oedrw7jBCdx8",
        "outputId": "684c93fb-0a59-4e40-bf59-02be8baf2c0d"
      },
      "source": [
        "len(car_sales_missing)"
      ],
      "execution_count": 10,
      "outputs": [
        {
          "output_type": "execute_result",
          "data": {
            "text/plain": [
              "950"
            ]
          },
          "metadata": {
            "tags": []
          },
          "execution_count": 10
        }
      ]
    },
    {
      "cell_type": "code",
      "metadata": {
        "id": "ubkOqXa3CiYq"
      },
      "source": [
        "X = car_sales_missing.drop(\"Price\" , axis = 1)\n",
        "y = car_sales_missing[\"Price\"]"
      ],
      "execution_count": 11,
      "outputs": []
    },
    {
      "cell_type": "code",
      "metadata": {
        "colab": {
          "base_uri": "https://localhost:8080/"
        },
        "id": "BtJGnR5hDF3c",
        "outputId": "a480cb50-5f8f-4f64-951f-3255436c3608"
      },
      "source": [
        "#lets try and convert our data to numbers\n",
        "from sklearn.preprocessing import OneHotEncoder\n",
        "from sklearn.compose import ColumnTransformer\n",
        "\n",
        "categorical_features = [\"Make\" , \"Colour\" , \"Doors\"]\n",
        "one_hot = OneHotEncoder()\n",
        "transformer = ColumnTransformer( [(\"one_hot\", one_hot , categorical_features )], remainder = \"passthrough\")\n",
        "\n",
        "transformed_X = transformer.fit_transform(car_sales_missing)\n",
        "transformed_X"
      ],
      "execution_count": 12,
      "outputs": [
        {
          "output_type": "execute_result",
          "data": {
            "text/plain": [
              "array([[0.00000e+00, 1.00000e+00, 0.00000e+00, ..., 0.00000e+00,\n",
              "        3.54310e+04, 1.53230e+04],\n",
              "       [1.00000e+00, 0.00000e+00, 0.00000e+00, ..., 1.00000e+00,\n",
              "        1.92714e+05, 1.99430e+04],\n",
              "       [0.00000e+00, 1.00000e+00, 0.00000e+00, ..., 0.00000e+00,\n",
              "        8.47140e+04, 2.83430e+04],\n",
              "       ...,\n",
              "       [0.00000e+00, 0.00000e+00, 1.00000e+00, ..., 0.00000e+00,\n",
              "        6.66040e+04, 3.15700e+04],\n",
              "       [0.00000e+00, 1.00000e+00, 0.00000e+00, ..., 0.00000e+00,\n",
              "        2.15883e+05, 4.00100e+03],\n",
              "       [0.00000e+00, 0.00000e+00, 0.00000e+00, ..., 0.00000e+00,\n",
              "        2.48360e+05, 1.27320e+04]])"
            ]
          },
          "metadata": {
            "tags": []
          },
          "execution_count": 12
        }
      ]
    },
    {
      "cell_type": "code",
      "metadata": {
        "colab": {
          "base_uri": "https://localhost:8080/"
        },
        "id": "Lt9Zj5fo3Z4i",
        "outputId": "88a02a7e-0cf0-4b21-e858-a415b74e6ef8"
      },
      "source": [
        "#Now we ve got our data as numbers and filled (no missing values)\n",
        "#lets fit the model \n",
        "np.random.seed(42)\n",
        "from sklearn.model_selection import train_test_split\n",
        "from sklearn.ensemble import RandomForestRegressor\n",
        "\n",
        "# Split data into train and test\n",
        "X_train,X_test , y_train , y_test = train_test_split(transformed_X,y,test_size=0.2)\n",
        "\n",
        "model = RandomForestRegressor()\n",
        "model.fit(X_train, y_train) \n",
        "model.score(X_test,y_test)"
      ],
      "execution_count": 13,
      "outputs": [
        {
          "output_type": "execute_result",
          "data": {
            "text/plain": [
              "0.9998421058539826"
            ]
          },
          "metadata": {
            "tags": []
          },
          "execution_count": 13
        }
      ]
    }
  ]
}